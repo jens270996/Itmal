{
 "cells": [
  {
   "cell_type": "markdown",
   "source": [
    "# ITMAL Exercise\r\n",
    "\r\n",
    "\r\n",
    "## Performance Metrics\r\n",
    "\r\n",
    "There are a number of frequently uses metrics in ML, namely accuracy, precision, recall and the $F_1$ score. All are called _metrics_ (though they are not true norms, like ${\\cal L}_2$ or ${\\cal L}_1$ we saw last time).\r\n",
    "\r\n",
    "Maybe performance _score_ would be a better name than performance metric, at least for the accuracy, precision, recall we will be looking at---emphasising the conceptual distinction between the  _score-function_ and _cost(/loss/error/objective)-function_ (the later is typically a true distance/norm function).  \r\n",
    "\r\n",
    "You can find a lot of details on say precision and recall in Wikipedia\r\n",
    "\r\n",
    ">  https://en.wikipedia.org/wiki/Precision_and_recall\r\n",
    "\r\n",
    "\r\n",
    "### Nomenclature\r\n",
    "\r\n",
    "| NAME | SYMBOL | ALIAS |\r\n",
    "| :---: | :---: | :---: |\r\n",
    "|true positives | $TP$ | |\r\n",
    "|true negatives | $TN$ | |\r\n",
    "|false positives| $FP$ | type I error| \r\n",
    "|false negatives| $FN$ | type II error |\r\n",
    "\r\n",
    "and $N = N_P + N_N$ being the total number of samples and the number of positive and negative samples\r\n",
    "respectively.\r\n",
    "\r\n",
    "### Precision\r\n",
    "\r\n",
    "$$\r\n",
    "\\def\\by{\\mathbf{y}}\r\n",
    "\\def\\ba{\\begin{array}{lll}}\r\n",
    "\\def\\ea{\\end{array}}\r\n",
    "\\newcommand{\\rem}[1]{}\r\n",
    "\\newcommand\\st[1]{_{\\scriptsize #1}}\r\n",
    "\\newcommand\\myfrac[2]{\\frac{#1\\rule{0pt}{8pt}}{#2\\rule{0pt}{8pt}}} \r\n",
    "\\ba\r\n",
    " p &= \\myfrac{TP}{TP + FP}\r\n",
    "\\ea\r\n",
    "$$\r\n",
    "\r\n",
    "### Recall or Sensitivity\r\n",
    "\r\n",
    "$$\r\n",
    "  \\ba\r\n",
    "    r &= \\myfrac{TP}{TP + FN}\\\\\r\n",
    "      &= \\myfrac{TP}{N_P}\r\n",
    "  \\ea\r\n",
    "$$\r\n",
    "\r\n",
    "### Accuracy\r\n",
    "\r\n",
    "$$\r\n",
    "  \\ba\r\n",
    "      a &= \\myfrac{TP + TN}{TP + TN + FP + FN}\\\\\r\n",
    "        &= \\myfrac{TP + TN}{N}\\\\\r\n",
    "        &= \\myfrac{TP + TN}{N_P~~ + N_N} \r\n",
    "  \\ea\r\n",
    "$$\r\n",
    "\r\n",
    "#### Accuracy Paradox\r\n",
    "\r\n",
    "A static constant model, say $p\\st{cancer}=0$ may have higher accuracy than a real model with predictive power. This is odd!\r\n",
    "\r\n",
    "Asymmetric weights could also be associated with the false positive and false negative predictions, yielding either FP of FN much more expensive than the other. Say, it is more expensive not to treat a person with cancer, than treating a person without cancer. \r\n",
    "\r\n",
    "### F-score\r\n",
    "\r\n",
    "General $\\beta$-harmonic mean of the precision and recall \r\n",
    "$$\r\n",
    "    F_\\beta = (1+\\beta^2) \\myfrac{pr}{\\beta^2 p+r}\\\\\r\n",
    "$$ \r\n",
    "that for say $\\beta=2$ or $\\beta=0.5$ shifts or skews the emphasis on the two variables in the equation. Normally only the $\\beta=1$ harmonic mean is used\r\n",
    "\r\n",
    "$$\r\n",
    "  \\ba\r\n",
    "    F_1 &= \\myfrac{2pr}{p+r}\\\\\r\n",
    "        &= \\myfrac{2}{1/p + 1/r}\r\n",
    "  \\ea\r\n",
    "$$\r\n",
    "with $F$ typically being synonymous with $F_1$. \r\n",
    "\r\n",
    "If needed, find more info on Wikipedia\r\n",
    "\r\n",
    "> https://en.wikipedia.org/wiki/F1_score\r\n",
    "\r\n",
    "\r\n",
    "## Confusion Matrix\r\n",
    "\r\n",
    "For statistical classification, the confusion matrix or error matrix (or\r\n",
    "matching matrix in unsupervised learning) is for a two-class problem given by\r\n",
    "the $2\\times2$ matrix with dimensions 'actual' and 'predicted'\r\n",
    "\r\n",
    "$$   \r\n",
    "{\\bf M}\\st{confusion} = \r\n",
    "\\begin{array}{l|ll}\r\n",
    "                           & \\mbox{actual true} & \\mbox{actual false} \\\\ \\hline\r\n",
    "    \\mbox{predicted true}  & TP & FP \\\\     \r\n",
    "    \\mbox{predicted false} & FN & TN \r\n",
    "\\end{array}\r\n",
    "$$\r\n",
    "\r\n",
    "The diagonal, in the square matrix, represent predicted values being the same\r\n",
    "as the actual values, off-diagonal elements represent erroneous prediction.\r\n",
    "\r\n",
    "Also notice, that the layout of this matrix is different of what is given in [HOML], \"Confusion Matrix\", p.92/fig 3-2. This is just a minor issue, since we can always flip/rotate/transpose the matrix (say by flipping the $\\by\\st{true}$ and $\\by\\st{pred}$ arguments). \r\n",
    "\r\n",
    "For N-class classification the matrix gives a matrix with $N$ actual\r\n",
    "classes and $N$ predicted classes\r\n",
    "\r\n",
    "$$\r\n",
    "{\\bf M}\\st{confusion}~~~ =\r\n",
    "  \\left[\r\n",
    "  \\begin{array}{llll}\r\n",
    "       c_{11} & c_{12} & \\cdots & c_{1n} \\\\ \r\n",
    "       c_{21} & c_{22} & \\cdots & c_{2n} \\\\\r\n",
    "       \\vdots & \\vdots & \\ddots & \\vdots \\\\\r\n",
    "       c_{n1} & c_{n2} & \\cdots & c_{nn} \\\\ \r\n",
    "  \\end{array}\r\n",
    "  \\right]\r\n",
    "$$\r\n",
    "with say element $c_{21}$ being the number of actual classes '1' being predicted (erroneously) as class '2'.\r\n",
    "\r\n",
    "### Nomenclature for the Confusion Matrix\r\n",
    "\r\n",
    "The naming of the elements in the confusion matrix can be rather exotic, like _false omission rate_ (see the figure below), but we won't get to such detail here...let us stick with TP, TN, FP, FN and $F_1$!\r\n",
    "\r\n",
    "<img src=\"https://itundervisning.ase.au.dk/GITMAL/L02/Figs/performance_metrics.jpg\" alt=\"WARNING: you need to be logged into Blackboard to view images\" style=\"width:900px\">\r\n",
    "\r\n",
    "If you need more info on the confusion matrix:\r\n",
    "\r\n",
    ">  https://en.wikipedia.org/wiki/Confusion_matrix\r\n",
    "\r\n",
    "#### Qa Implement the Accuracy function and test it on the MNIST data.\r\n",
    "\r\n",
    "We now follow the convention in Scikit-learn, that a score funtion takes the arguments `y_true` and then `y_pred`\r\n",
    "\r\n",
    "```\r\n",
    "    sklearn.metrics.accuracy_score(y_true, y_pred, ..)\r\n",
    "```\r\n",
    "\r\n",
    "Implement a general accuracy function `MyAccuracy(y_true, y_pred)`. Again, implement the function you self from scratch, i.e. do not use any helper functions from Scikit-learn (implementing via `sklearn.metrics.confusion_matrix` is also not allowed, othewise you will then learn nothing!)\r\n",
    "\r\n",
    "Reuse your MNIST data loader and test the `MyAccuracy` function  both on your dummy classifier and on the Stochastic Gradient Descent classifier (with setup parameters as in [HOML]).\r\n",
    "\r\n",
    "Compare your accuracy score with the acutal value from `sklearn.metrics.accuracy_score()`.\r\n",
    "\r\n",
    "(Implementation note: what do you do, if the denominator is zero?)"
   ],
   "metadata": {}
  },
  {
   "cell_type": "code",
   "execution_count": 2,
   "source": [
    "from sklearn.datasets import fetch_openml\r\n",
    "import matplotlib.pyplot as plt\r\n",
    "def MNIST_GetDataSet():\r\n",
    "    X, y = fetch_openml('mnist_784', cache=True, return_X_y=True, as_frame=False)\r\n",
    "    return X, y\r\n",
    "\r\n",
    "X, y = MNIST_GetDataSet()"
   ],
   "outputs": [],
   "metadata": {}
  },
  {
   "cell_type": "code",
   "execution_count": 3,
   "source": [
    "import matplotlib\r\n",
    "import matplotlib.pyplot as plt\r\n",
    "def MNIST_PlotDigit(data):\r\n",
    "    image = data.reshape(28,28)\r\n",
    "    plt.imshow(image, cmap=matplotlib.cm.binary, interpolation=\"nearest\")\r\n",
    "    plt.axis(\"off\")"
   ],
   "outputs": [],
   "metadata": {}
  },
  {
   "cell_type": "code",
   "execution_count": 4,
   "source": [
    "# TODO: Qa...\r\n",
    "from sklearn.metrics import accuracy_score\r\n",
    "def MyAccuracy(y_true, y_pred):\r\n",
    "    T = 0\r\n",
    "    for i in range(len(y_true)):\r\n",
    "        if y_true[i] == y_pred[i]:\r\n",
    "            T += 1\r\n",
    "    accuracy = (T)/len(y_true)\r\n",
    "        \r\n",
    "    return accuracy\r\n",
    "    # TODO: you impl here\r\n",
    "    assert False, \"TODO: solve Qa, and remove me..\"\r\n",
    "\r\n",
    "    \r\n",
    "#TEST FUNCTION: example of a comperator, using Scikit-learn accuracy_score\r\n",
    "def TestAccuracy(y_true, y_pred):\r\n",
    "   a0=MyAccuracy(y_true, y_pred)\r\n",
    "   a1=accuracy_score(y_true, y_pred)\r\n",
    "\r\n",
    "   print(f\"\\nmy a          ={a0}\")\r\n",
    "   print(f\"scikit-learn a={a1}\")\r\n",
    "\r\n",
    "   # do some numerical comparison here, like\r\n",
    "   #  if fabs(a0-a1)<eps then .."
   ],
   "outputs": [],
   "metadata": {}
  },
  {
   "cell_type": "code",
   "execution_count": 23,
   "source": [
    "from sklearn.linear_model import SGDClassifier\r\n",
    "from sklearn.base import clone\r\n",
    "import numpy as np\r\n",
    "print(f\"X.shape={X.shape}\")\r\n",
    "print(f\"y.shape={y.shape}\")\r\n",
    "\r\n",
    "X_train, X_test, y_train, y_test = X[:60000], X[60000:], y[:60000], y[60000:]\r\n",
    "y_train_5 = (y_train==\"5\")\r\n",
    "y_test_5 = (y_test==\"5\")\r\n",
    "sgd_clf = SGDClassifier(random_state=42)\r\n",
    "sgd_clf.fit(X_train, y_train_5)\r\n",
    "MNIST_PlotDigit(X_test[0])\r\n",
    "print(f'{sgd_clf.predict([X_test[0]])}')\r\n",
    "X_pred = np.empty(10000, dtype=bool)\r\n",
    "y_true = np.empty(10000, dtype=bool)\r\n",
    "\r\n",
    "for i in range(len(y_true)-1):\r\n",
    "    X_pred[i] = sgd_clf.predict([X_test[i]])\r\n",
    "    y_true[i] = y_test_5[i]\r\n",
    "\r\n",
    "# dummy_5_clf_accuracy = dummy_5_clf.predict(np.empty(10000, dtype=bool))\r\n",
    "# dummy_5_clf_precision = dummy_5_clf.predict(np.empty(10000, dtype=bool))\r\n",
    "# dummy_5_clf_recall = dummy_5_clf.predict(np.empty(10000, dtype=bool))\r\n",
    "# dummy_5_clf_f1Score = dummy_5_clf.predict(np.empty(10000, dtype=bool))\r\n",
    "TestAccuracy(X_pred,y_true)\r\n",
    "# TestAccuracy(dummy_5_clf_accuracy, y_true)\r\n",
    "TestPrecision(X_pred,y_true)\r\n",
    "# TestPrecision(dummy_5_clf_precision, y_true)\r\n",
    "TestRecall(X_pred,y_true)\r\n",
    "# TestRecall(dummy_5_clf_recall,y_true)\r\n",
    "TestF1Score(X_pred, y_true)\r\n",
    "# TestF1Score(dummy_5_clf_f1Score, y_true)\r\n"
   ],
   "outputs": [
    {
     "output_type": "stream",
     "name": "stdout",
     "text": [
      "X.shape=(70000, 784)\n",
      "y.shape=(70000,)\n",
      "[False]\n",
      "\n",
      "my a          =0.9492\n",
      "scikit-learn a=0.9492\n",
      "\n",
      "my a          =0.8800448430493274\n",
      "scikit-learn a=0.8800448430493274\n",
      "\n",
      "my a          =0.6618887015177066\n",
      "scikit-learn a=0.6618887015177066\n",
      "\n",
      "my a          =0.7555341674687199\n",
      "scikit-learn a=0.75553416746872\n"
     ]
    },
    {
     "output_type": "display_data",
     "data": {
      "image/png": "[encoded data removed]",
      "text/plain": [
       "<Figure size 432x288 with 1 Axes>"
      ]
     },
     "metadata": {
      "needs_background": "light"
     }
    }
   ],
   "metadata": {}
  },
  {
   "cell_type": "code",
   "execution_count": 16,
   "source": [
    "from sklearn.base import BaseEstimator\r\n",
    "from sklearn.base import ClassifierMixin\r\n",
    "from sklearn.model_selection import cross_val_score\r\n",
    "from sklearn.metrics import accuracy_score\r\n",
    "import numpy as np\r\n",
    "class DummyClassifier(BaseEstimator, ClassifierMixin):\r\n",
    "    def fit(self, X, y=None):\r\n",
    "        pass\r\n",
    "    def predict(self, X):\r\n",
    "        return np.zeros((len(X), 1), dtype=bool)\r\n",
    "\r\n",
    "dummy_5_clf = DummyClassifier()"
   ],
   "outputs": [
    {
     "output_type": "stream",
     "name": "stdout",
     "text": [
      "[[False]\n",
      " [False]\n",
      " [False]\n",
      " ...\n",
      " [False]\n",
      " [False]\n",
      " [False]]\n"
     ]
    }
   ],
   "metadata": {}
  },
  {
   "cell_type": "markdown",
   "source": [
    "#### Qb Implement Precision, Recall and $F_1$-score and test it on the MNIST data for both the SGD and Dummy classifier models\n",
    "\n",
    "Now, implement the `MyPrecision`, `MyRecall` and `MyF1Score` functions, again taking MNIST as input, using the SGD and the Dummy classifiers and make some test vectors to compare to the functions found in Scikit-learn...\n",
    "\n",
    "(Implementation note: as before, what do you do, if the denominator is zero?)"
   ],
   "metadata": {}
  },
  {
   "cell_type": "code",
   "execution_count": 6,
   "source": [
    "# TODO: Qb..\r\n",
    "from sklearn.metrics import precision_score\r\n",
    "from sklearn.metrics import recall_score\r\n",
    "from sklearn.metrics import f1_score\r\n",
    "def MyPrecision(y_true, y_pred):\r\n",
    "    TP = 0\r\n",
    "    FP = 0\r\n",
    "    for i in range(len(y_true)):\r\n",
    "        if y_true[i] == y_pred[i]:\r\n",
    "            if y_pred[i] == 1:\r\n",
    "                TP += 1\r\n",
    "        if y_true[i] == 0 and y_pred[i] == 1:\r\n",
    "                FP += 1\r\n",
    "       \r\n",
    "    if TP+FP == 0:\r\n",
    "        return 0\r\n",
    "    return  TP/(TP+FP)\r\n",
    "\r\n",
    "def TestPrecision(y_true, y_pred):\r\n",
    "   a0=MyPrecision(y_true, y_pred)\r\n",
    "   a1=precision_score(y_true, y_pred)\r\n",
    "\r\n",
    "   print(f\"\\nmy a          ={a0}\")\r\n",
    "   print(f\"scikit-learn a={a1}\")\r\n",
    "\r\n",
    "def MyRecall(y_true, y_pred):\r\n",
    "    TP = 0\r\n",
    "    FN = 0\r\n",
    "\r\n",
    "    for i in range(len(y_true)):\r\n",
    "        if y_true[i] == 1:\r\n",
    "            if y_pred[i] == 1:\r\n",
    "                TP += 1\r\n",
    "            else:\r\n",
    "                FN +=1\r\n",
    "    if TP+FN == 0:\r\n",
    "        return 0\r\n",
    "    return TP/(TP+FN)\r\n",
    "    \r\n",
    "def TestRecall(y_true, y_pred):\r\n",
    "   a0=MyRecall(y_true, y_pred)\r\n",
    "   a1=recall_score(y_true, y_pred)\r\n",
    "\r\n",
    "   print(f\"\\nmy a          ={a0}\")\r\n",
    "   print(f\"scikit-learn a={a1}\")\r\n",
    "def MyF1Score(y_true, y_pred):\r\n",
    "   TP = 0\r\n",
    "   FP = 0\r\n",
    "   FN = 0\r\n",
    "\r\n",
    "   for i in range(len(y_true)):\r\n",
    "       if y_true[i] == 1:\r\n",
    "           if y_pred[i] == 1:\r\n",
    "               TP += 1\r\n",
    "           else:\r\n",
    "               FN += 1\r\n",
    "       elif y_pred[i] == 1 and y_test[0]:\r\n",
    "           FP += 1\r\n",
    "   return 2*TP/(2*TP+FP+FN)\r\n",
    "def TestF1Score(y_true, y_pred):\r\n",
    "   a0=MyF1Score(y_true, y_pred)\r\n",
    "   a1=f1_score(y_true, y_pred)\r\n",
    "\r\n",
    "   print(f\"\\nmy a          ={a0}\")\r\n",
    "   print(f\"scikit-learn a={a1}\")"
   ],
   "outputs": [],
   "metadata": {}
  },
  {
   "cell_type": "markdown",
   "source": [
    "#### Qc The Confusion Matrix\n",
    "\n",
    "Revisit your solution to Qb in the `dummy_classifier.ipynb`. Generate the confusion matrix for both the Dummy and the SGD classifier using the `scklearn.metrics.confusion_matrix` function. \n",
    "\n",
    "I got the two confusion matrices\n",
    "\n",
    "```\n",
    "M_dummy=[[18166     0]\n",
    "        [ 1834     0]]\n",
    "   \n",
    "M_SDG=[[17618   548]\n",
    "      [  267  1567]]\n",
    "\n",
    "```\n",
    "your data may look similar (but not 100% equal).\n",
    "\n",
    "How are the Scikit-learn confusion matrix organized, where are the TP, FP, FN and TN located in the matrix indices, and what happens if you mess up the parameters calling\n",
    "\n",
    "```python\n",
    "confusion_matrix(y_train_pred, y_train_5)\n",
    "```\n",
    "\n",
    "instead of \n",
    "```python\n",
    "confusion_matrix(y_train_5, y_train_pred)\n",
    "```"
   ],
   "metadata": {}
  },
  {
   "cell_type": "code",
   "execution_count": 21,
   "source": [
    "# TODO: Qc\r\n",
    "from sklearn.metrics import confusion_matrix\r\n",
    "conf_matrix = confusion_matrix(y_true, X_pred)\r\n",
    "print(conf_matrix)\r\n",
    "\r\n",
    "conf_matrix_mix = confusion_matrix(X_pred, y_true)\r\n",
    "print(conf_matrix_mix)\r\n",
    "\r\n",
    "conf_matrix_dummy = confusion_matrix(dummy_5_clf_precision, y_true)\r\n",
    "print(conf_matrix_dummy)\r\n",
    "conf_matrix_dummy_mix = confusion_matrix(y_true, dummy_5_clf_precision)\r\n",
    "print(conf_matrix_dummy_mix)"
   ],
   "outputs": [
    {
     "output_type": "stream",
     "name": "stdout",
     "text": [
      "[[8707  401]\n",
      " [ 107  785]]\n",
      "[[8707  107]\n",
      " [ 401  785]]\n",
      "[[9108  892]\n",
      " [   0    0]]\n",
      "[[9108    0]\n",
      " [ 892    0]]\n"
     ]
    }
   ],
   "metadata": {}
  },
  {
   "cell_type": "markdown",
   "source": [
    "#### Qd A Confusion Matrix Heat-map\n",
    "\n",
    "Generate a _heat map_ image for the confusion matrices, `M_dummy` and `M_SGD` respectively, getting inspiration from [HOML] \"Error Analysis\", pp.102-105.\n",
    "\n",
    "This heat map could be an important guide for you when analysing multiclass data in the future."
   ],
   "metadata": {}
  },
  {
   "cell_type": "code",
   "execution_count": 31,
   "source": [
    "\r\n",
    "plt.matshow(conf_matrix, cmap=plt.cm.gray)\r\n",
    "plt.matshow(conf_matrix_dummy, cmap=plt.cm.gray)\r\n",
    "\r\n"
   ],
   "outputs": [
    {
     "output_type": "execute_result",
     "data": {
      "text/plain": [
       "<matplotlib.image.AxesImage at 0x1cabe37bac0>"
      ]
     },
     "metadata": {},
     "execution_count": 31
    },
    {
     "output_type": "display_data",
     "data": {
      "image/png": "[encoded data removed]",
      "text/plain": [
       "<Figure size 288x288 with 1 Axes>"
      ]
     },
     "metadata": {
      "needs_background": "light"
     }
    },
    {
     "output_type": "display_data",
     "data": {
      "image/png": "[encoded data removed]",
      "text/plain": [
       "<Figure size 288x288 with 1 Axes>"
      ]
     },
     "metadata": {
      "needs_background": "light"
     }
    }
   ],
   "metadata": {}
  },
  {
   "cell_type": "markdown",
   "source": [
    "### Qe Conclusion\n",
    "\n",
    "Now, conclude on all the exercise above. \n",
    "\n",
    "Write a short textual conclusion (max. 10- to 20-lines) that extract the _essence_ of the exercises: why did you think it was important to look at these particular ML concepts, and what was our overall learning outcome of the exercises (in broad terms)."
   ],
   "metadata": {}
  },
  {
   "cell_type": "code",
   "execution_count": 6,
   "source": [
    "# TODO: Qe concluding remarks in text.."
   ],
   "outputs": [],
   "metadata": {}
  },
  {
   "cell_type": "markdown",
   "source": [
    "REVISIONS||\n",
    "---------||\n",
    "2018-12-19| CEF, initial.                  \n",
    "2018-02-07| CEF, updated.           \n",
    "2018-02-07| CEF, rewritten accuracy paradox section. \n",
    "2018-03-05| CEF, updated with SHN comments.\n",
    "2019-09-01| CEF, updated for ITMAL v2.\n",
    "2019-09-04| CEF, updated for print-f and added conclusion Q.\n",
    "2020-01-25| CEF, F20 ITMAL update.\n",
    "2020-02-03| CEF, minor text fixes.\n",
    "2020-02-04| CEF, updated page numbers to HOMLv2.\n",
    "2020-02-17| CEF, added implementation note on denominator=0.\n",
    "2020-09-03| CEF, E20 ITMAL update, udpated figs paths.\n",
    "2020-09-06| CEF, added alt text.\n",
    "2020-09-07| CEF, updated HOML page refs.\n",
    "2020-09-21| CEF, fixed factor 2 error in beta-harmonic.\n",
    "2021-01-12| CEF, F21 ITMAL update, moved revision tabel.\n",
    "2021-08-02| CEF, update to E21 ITMAL."
   ],
   "metadata": {}
  }
 ],
 "metadata": {
  "kernelspec": {
   "name": "python3",
   "display_name": "Python 3.8.8 64-bit ('base': conda)"
  },
  "language_info": {
   "codemirror_mode": {
    "name": "ipython",
    "version": 3
   },
   "file_extension": ".py",
   "mimetype": "text/x-python",
   "name": "python",
   "nbconvert_exporter": "python",
   "pygments_lexer": "ipython3",
   "version": "3.8.8"
  },
  "varInspector": {
   "cols": {
    "lenName": 16,
    "lenType": 16,
    "lenVar": 40
   },
   "kernels_config": {
    "python": {
     "delete_cmd_postfix": "",
     "delete_cmd_prefix": "del ",
     "library": "var_list.py",
     "varRefreshCmd": "print(var_dic_list())"
    },
    "r": {
     "delete_cmd_postfix": ") ",
     "delete_cmd_prefix": "rm(",
     "library": "var_list.r",
     "varRefreshCmd": "cat(var_dic_list()) "
    }
   },
   "types_to_exclude": [
    "module",
    "function",
    "builtin_function_or_method",
    "instance",
    "_Feature"
   ],
   "window_display": true
  },
  "interpreter": {
   "hash": "8ac103a4ea7a9ce6b38a3bae78d3f7aa3ec13c6a5fd842cb0d2c99a5dc8b8544"
  }
 },
 "nbformat": 4,
 "nbformat_minor": 2
}